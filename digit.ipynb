{
 "cells": [
  {
   "cell_type": "markdown",
   "id": "467bb274",
   "metadata": {},
   "source": []
  },
  {
   "cell_type": "markdown",
   "id": "cf19a362",
   "metadata": {},
   "source": [
    "#### Getting the codes ready."
   ]
  },
  {
   "cell_type": "code",
   "execution_count": 2,
   "id": "7ba68f7d",
   "metadata": {},
   "outputs": [],
   "source": [
    "import pandas as pd\n",
    "train_data = pd.read_csv(\"~/digit-recognizer/train.csv\")\n",
    "test_data = pd.read_csv(\"~/digit-recognizer/test.csv\")"
   ]
  },
  {
   "cell_type": "code",
   "execution_count": 3,
   "id": "0b7e44e5",
   "metadata": {},
   "outputs": [],
   "source": [
    "# take target out of training set\n",
    "Y = train_data['label']\n",
    "train_data = train_data.drop(['label'], axis=1)"
   ]
  },
  {
   "cell_type": "code",
   "execution_count": 4,
   "id": "545692c5",
   "metadata": {},
   "outputs": [
    {
     "data": {
      "text/html": [
       "<div>\n",
       "<style scoped>\n",
       "    .dataframe tbody tr th:only-of-type {\n",
       "        vertical-align: middle;\n",
       "    }\n",
       "\n",
       "    .dataframe tbody tr th {\n",
       "        vertical-align: top;\n",
       "    }\n",
       "\n",
       "    .dataframe thead th {\n",
       "        text-align: right;\n",
       "    }\n",
       "</style>\n",
       "<table border=\"1\" class=\"dataframe\">\n",
       "  <thead>\n",
       "    <tr style=\"text-align: right;\">\n",
       "      <th></th>\n",
       "      <th>pixel0</th>\n",
       "      <th>pixel1</th>\n",
       "      <th>pixel2</th>\n",
       "      <th>pixel3</th>\n",
       "      <th>pixel4</th>\n",
       "      <th>pixel5</th>\n",
       "      <th>pixel6</th>\n",
       "      <th>pixel7</th>\n",
       "      <th>pixel8</th>\n",
       "      <th>pixel9</th>\n",
       "      <th>...</th>\n",
       "      <th>pixel774</th>\n",
       "      <th>pixel775</th>\n",
       "      <th>pixel776</th>\n",
       "      <th>pixel777</th>\n",
       "      <th>pixel778</th>\n",
       "      <th>pixel779</th>\n",
       "      <th>pixel780</th>\n",
       "      <th>pixel781</th>\n",
       "      <th>pixel782</th>\n",
       "      <th>pixel783</th>\n",
       "    </tr>\n",
       "  </thead>\n",
       "  <tbody>\n",
       "    <tr>\n",
       "      <th>0</th>\n",
       "      <td>0</td>\n",
       "      <td>0</td>\n",
       "      <td>0</td>\n",
       "      <td>0</td>\n",
       "      <td>0</td>\n",
       "      <td>0</td>\n",
       "      <td>0</td>\n",
       "      <td>0</td>\n",
       "      <td>0</td>\n",
       "      <td>0</td>\n",
       "      <td>...</td>\n",
       "      <td>0</td>\n",
       "      <td>0</td>\n",
       "      <td>0</td>\n",
       "      <td>0</td>\n",
       "      <td>0</td>\n",
       "      <td>0</td>\n",
       "      <td>0</td>\n",
       "      <td>0</td>\n",
       "      <td>0</td>\n",
       "      <td>0</td>\n",
       "    </tr>\n",
       "    <tr>\n",
       "      <th>1</th>\n",
       "      <td>0</td>\n",
       "      <td>0</td>\n",
       "      <td>0</td>\n",
       "      <td>0</td>\n",
       "      <td>0</td>\n",
       "      <td>0</td>\n",
       "      <td>0</td>\n",
       "      <td>0</td>\n",
       "      <td>0</td>\n",
       "      <td>0</td>\n",
       "      <td>...</td>\n",
       "      <td>0</td>\n",
       "      <td>0</td>\n",
       "      <td>0</td>\n",
       "      <td>0</td>\n",
       "      <td>0</td>\n",
       "      <td>0</td>\n",
       "      <td>0</td>\n",
       "      <td>0</td>\n",
       "      <td>0</td>\n",
       "      <td>0</td>\n",
       "    </tr>\n",
       "    <tr>\n",
       "      <th>2</th>\n",
       "      <td>0</td>\n",
       "      <td>0</td>\n",
       "      <td>0</td>\n",
       "      <td>0</td>\n",
       "      <td>0</td>\n",
       "      <td>0</td>\n",
       "      <td>0</td>\n",
       "      <td>0</td>\n",
       "      <td>0</td>\n",
       "      <td>0</td>\n",
       "      <td>...</td>\n",
       "      <td>0</td>\n",
       "      <td>0</td>\n",
       "      <td>0</td>\n",
       "      <td>0</td>\n",
       "      <td>0</td>\n",
       "      <td>0</td>\n",
       "      <td>0</td>\n",
       "      <td>0</td>\n",
       "      <td>0</td>\n",
       "      <td>0</td>\n",
       "    </tr>\n",
       "    <tr>\n",
       "      <th>3</th>\n",
       "      <td>0</td>\n",
       "      <td>0</td>\n",
       "      <td>0</td>\n",
       "      <td>0</td>\n",
       "      <td>0</td>\n",
       "      <td>0</td>\n",
       "      <td>0</td>\n",
       "      <td>0</td>\n",
       "      <td>0</td>\n",
       "      <td>0</td>\n",
       "      <td>...</td>\n",
       "      <td>0</td>\n",
       "      <td>0</td>\n",
       "      <td>0</td>\n",
       "      <td>0</td>\n",
       "      <td>0</td>\n",
       "      <td>0</td>\n",
       "      <td>0</td>\n",
       "      <td>0</td>\n",
       "      <td>0</td>\n",
       "      <td>0</td>\n",
       "    </tr>\n",
       "    <tr>\n",
       "      <th>4</th>\n",
       "      <td>0</td>\n",
       "      <td>0</td>\n",
       "      <td>0</td>\n",
       "      <td>0</td>\n",
       "      <td>0</td>\n",
       "      <td>0</td>\n",
       "      <td>0</td>\n",
       "      <td>0</td>\n",
       "      <td>0</td>\n",
       "      <td>0</td>\n",
       "      <td>...</td>\n",
       "      <td>0</td>\n",
       "      <td>0</td>\n",
       "      <td>0</td>\n",
       "      <td>0</td>\n",
       "      <td>0</td>\n",
       "      <td>0</td>\n",
       "      <td>0</td>\n",
       "      <td>0</td>\n",
       "      <td>0</td>\n",
       "      <td>0</td>\n",
       "    </tr>\n",
       "    <tr>\n",
       "      <th>...</th>\n",
       "      <td>...</td>\n",
       "      <td>...</td>\n",
       "      <td>...</td>\n",
       "      <td>...</td>\n",
       "      <td>...</td>\n",
       "      <td>...</td>\n",
       "      <td>...</td>\n",
       "      <td>...</td>\n",
       "      <td>...</td>\n",
       "      <td>...</td>\n",
       "      <td>...</td>\n",
       "      <td>...</td>\n",
       "      <td>...</td>\n",
       "      <td>...</td>\n",
       "      <td>...</td>\n",
       "      <td>...</td>\n",
       "      <td>...</td>\n",
       "      <td>...</td>\n",
       "      <td>...</td>\n",
       "      <td>...</td>\n",
       "      <td>...</td>\n",
       "    </tr>\n",
       "    <tr>\n",
       "      <th>41995</th>\n",
       "      <td>0</td>\n",
       "      <td>0</td>\n",
       "      <td>0</td>\n",
       "      <td>0</td>\n",
       "      <td>0</td>\n",
       "      <td>0</td>\n",
       "      <td>0</td>\n",
       "      <td>0</td>\n",
       "      <td>0</td>\n",
       "      <td>0</td>\n",
       "      <td>...</td>\n",
       "      <td>0</td>\n",
       "      <td>0</td>\n",
       "      <td>0</td>\n",
       "      <td>0</td>\n",
       "      <td>0</td>\n",
       "      <td>0</td>\n",
       "      <td>0</td>\n",
       "      <td>0</td>\n",
       "      <td>0</td>\n",
       "      <td>0</td>\n",
       "    </tr>\n",
       "    <tr>\n",
       "      <th>41996</th>\n",
       "      <td>0</td>\n",
       "      <td>0</td>\n",
       "      <td>0</td>\n",
       "      <td>0</td>\n",
       "      <td>0</td>\n",
       "      <td>0</td>\n",
       "      <td>0</td>\n",
       "      <td>0</td>\n",
       "      <td>0</td>\n",
       "      <td>0</td>\n",
       "      <td>...</td>\n",
       "      <td>0</td>\n",
       "      <td>0</td>\n",
       "      <td>0</td>\n",
       "      <td>0</td>\n",
       "      <td>0</td>\n",
       "      <td>0</td>\n",
       "      <td>0</td>\n",
       "      <td>0</td>\n",
       "      <td>0</td>\n",
       "      <td>0</td>\n",
       "    </tr>\n",
       "    <tr>\n",
       "      <th>41997</th>\n",
       "      <td>0</td>\n",
       "      <td>0</td>\n",
       "      <td>0</td>\n",
       "      <td>0</td>\n",
       "      <td>0</td>\n",
       "      <td>0</td>\n",
       "      <td>0</td>\n",
       "      <td>0</td>\n",
       "      <td>0</td>\n",
       "      <td>0</td>\n",
       "      <td>...</td>\n",
       "      <td>0</td>\n",
       "      <td>0</td>\n",
       "      <td>0</td>\n",
       "      <td>0</td>\n",
       "      <td>0</td>\n",
       "      <td>0</td>\n",
       "      <td>0</td>\n",
       "      <td>0</td>\n",
       "      <td>0</td>\n",
       "      <td>0</td>\n",
       "    </tr>\n",
       "    <tr>\n",
       "      <th>41998</th>\n",
       "      <td>0</td>\n",
       "      <td>0</td>\n",
       "      <td>0</td>\n",
       "      <td>0</td>\n",
       "      <td>0</td>\n",
       "      <td>0</td>\n",
       "      <td>0</td>\n",
       "      <td>0</td>\n",
       "      <td>0</td>\n",
       "      <td>0</td>\n",
       "      <td>...</td>\n",
       "      <td>0</td>\n",
       "      <td>0</td>\n",
       "      <td>0</td>\n",
       "      <td>0</td>\n",
       "      <td>0</td>\n",
       "      <td>0</td>\n",
       "      <td>0</td>\n",
       "      <td>0</td>\n",
       "      <td>0</td>\n",
       "      <td>0</td>\n",
       "    </tr>\n",
       "    <tr>\n",
       "      <th>41999</th>\n",
       "      <td>0</td>\n",
       "      <td>0</td>\n",
       "      <td>0</td>\n",
       "      <td>0</td>\n",
       "      <td>0</td>\n",
       "      <td>0</td>\n",
       "      <td>0</td>\n",
       "      <td>0</td>\n",
       "      <td>0</td>\n",
       "      <td>0</td>\n",
       "      <td>...</td>\n",
       "      <td>0</td>\n",
       "      <td>0</td>\n",
       "      <td>0</td>\n",
       "      <td>0</td>\n",
       "      <td>0</td>\n",
       "      <td>0</td>\n",
       "      <td>0</td>\n",
       "      <td>0</td>\n",
       "      <td>0</td>\n",
       "      <td>0</td>\n",
       "    </tr>\n",
       "  </tbody>\n",
       "</table>\n",
       "<p>42000 rows × 784 columns</p>\n",
       "</div>"
      ],
      "text/plain": [
       "       pixel0  pixel1  pixel2  pixel3  pixel4  pixel5  pixel6  pixel7  pixel8  \\\n",
       "0           0       0       0       0       0       0       0       0       0   \n",
       "1           0       0       0       0       0       0       0       0       0   \n",
       "2           0       0       0       0       0       0       0       0       0   \n",
       "3           0       0       0       0       0       0       0       0       0   \n",
       "4           0       0       0       0       0       0       0       0       0   \n",
       "...       ...     ...     ...     ...     ...     ...     ...     ...     ...   \n",
       "41995       0       0       0       0       0       0       0       0       0   \n",
       "41996       0       0       0       0       0       0       0       0       0   \n",
       "41997       0       0       0       0       0       0       0       0       0   \n",
       "41998       0       0       0       0       0       0       0       0       0   \n",
       "41999       0       0       0       0       0       0       0       0       0   \n",
       "\n",
       "       pixel9  ...  pixel774  pixel775  pixel776  pixel777  pixel778  \\\n",
       "0           0  ...         0         0         0         0         0   \n",
       "1           0  ...         0         0         0         0         0   \n",
       "2           0  ...         0         0         0         0         0   \n",
       "3           0  ...         0         0         0         0         0   \n",
       "4           0  ...         0         0         0         0         0   \n",
       "...       ...  ...       ...       ...       ...       ...       ...   \n",
       "41995       0  ...         0         0         0         0         0   \n",
       "41996       0  ...         0         0         0         0         0   \n",
       "41997       0  ...         0         0         0         0         0   \n",
       "41998       0  ...         0         0         0         0         0   \n",
       "41999       0  ...         0         0         0         0         0   \n",
       "\n",
       "       pixel779  pixel780  pixel781  pixel782  pixel783  \n",
       "0             0         0         0         0         0  \n",
       "1             0         0         0         0         0  \n",
       "2             0         0         0         0         0  \n",
       "3             0         0         0         0         0  \n",
       "4             0         0         0         0         0  \n",
       "...         ...       ...       ...       ...       ...  \n",
       "41995         0         0         0         0         0  \n",
       "41996         0         0         0         0         0  \n",
       "41997         0         0         0         0         0  \n",
       "41998         0         0         0         0         0  \n",
       "41999         0         0         0         0         0  \n",
       "\n",
       "[42000 rows x 784 columns]"
      ]
     },
     "execution_count": 4,
     "metadata": {},
     "output_type": "execute_result"
    }
   ],
   "source": [
    "train_data"
   ]
  },
  {
   "cell_type": "code",
   "execution_count": 5,
   "id": "1711b65e",
   "metadata": {},
   "outputs": [
    {
     "name": "stderr",
     "output_type": "stream",
     "text": [
      "/var/folders/19/xjp0qn2d7y3bwrd_pdq5v8cc0000gn/T/ipykernel_78096/1270318813.py:3: FutureWarning: The frame.append method is deprecated and will be removed from pandas in a future version. Use pandas.concat instead.\n",
      "  total_data = total_data.append(test_data)\n"
     ]
    }
   ],
   "source": [
    "# remove the features that are all zeros\n",
    "total_data = train_data\n",
    "total_data = total_data.append(test_data)\n",
    "for col in total_data.columns:\n",
    "    if len(total_data[total_data[col] == 0]) == len(total_data[col]):\n",
    "        train_data = train_data.drop([col], axis=1)\n",
    "        test_data = test_data.drop([col], axis=1)"
   ]
  },
  {
   "cell_type": "code",
   "execution_count": 6,
   "id": "3d6e6dda",
   "metadata": {},
   "outputs": [],
   "source": [
    "# min-max scaling\n",
    "train_data = (train_data - train_data.min()) / (train_data.max() - train_data.min())\n",
    "test_data = (test_data - test_data.min()) / (test_data.max() - test_data.min())"
   ]
  },
  {
   "cell_type": "code",
   "execution_count": 7,
   "id": "d223c514",
   "metadata": {},
   "outputs": [],
   "source": [
    "def countMissing(data):\n",
    "    missing = data.columns[data.isnull().any()].tolist()\n",
    "    return missing\n",
    "misTrain = countMissing(train_data)\n",
    "misTest = countMissing(test_data)\n",
    "misTotal = list(set().union(misTrain, misTest))"
   ]
  },
  {
   "cell_type": "code",
   "execution_count": 8,
   "id": "555363a8",
   "metadata": {},
   "outputs": [],
   "source": [
    "def imputation(data, column, value):\n",
    "    data.loc[data[column].isnull(), column] = value"
   ]
  },
  {
   "cell_type": "code",
   "execution_count": 9,
   "id": "d00ba115",
   "metadata": {},
   "outputs": [
    {
     "name": "stdout",
     "output_type": "stream",
     "text": [
      "['pixel139', 'pixel141', 'pixel196', 'pixel392', 'pixel420', 'pixel421', 'pixel448', 'pixel532', 'pixel645', 'pixel731', 'pixel760'] 11\n"
     ]
    }
   ],
   "source": [
    "print(misTrain, len(misTrain))"
   ]
  },
  {
   "cell_type": "code",
   "execution_count": 10,
   "id": "8be53484",
   "metadata": {},
   "outputs": [
    {
     "name": "stdout",
     "output_type": "stream",
     "text": [
      "['pixel12', 'pixel13', 'pixel14', 'pixel15', 'pixel32', 'pixel51', 'pixel58', 'pixel113', 'pixel364', 'pixel588', 'pixel615', 'pixel616', 'pixel643', 'pixel698', 'pixel702', 'pixel726', 'pixel753', 'pixel779'] 18\n"
     ]
    }
   ],
   "source": [
    "print(misTest, len(misTest))"
   ]
  },
  {
   "cell_type": "code",
   "execution_count": 11,
   "id": "e8aebb31",
   "metadata": {},
   "outputs": [],
   "source": [
    "for ele in misTrain:\n",
    "    imputation(train_data, ele, 1)\n",
    "    \n",
    "for ele in misTest:\n",
    "    imputation(test_data, ele, 1)"
   ]
  },
  {
   "cell_type": "code",
   "execution_count": null,
   "id": "c983277c",
   "metadata": {},
   "outputs": [],
   "source": []
  },
  {
   "cell_type": "code",
   "execution_count": 12,
   "id": "8f15df5d",
   "metadata": {},
   "outputs": [],
   "source": [
    "# One-Vs-Rest with regularized logistic regression models\n",
    "from sklearn.multiclass import OneVsRestClassifier\n",
    "from sklearn import linear_model\n",
    "# edit by Keith: solver='liblinear'\n",
    "res = OneVsRestClassifier(linear_model.LogisticRegression(penalty='l1', solver='liblinear')).fit(train_data, Y).predict(test_data)\n"
   ]
  },
  {
   "cell_type": "code",
   "execution_count": 13,
   "id": "72b08963",
   "metadata": {},
   "outputs": [
    {
     "data": {
      "text/plain": [
       "array([2, 0, 9, ..., 3, 9, 2])"
      ]
     },
     "execution_count": 13,
     "metadata": {},
     "output_type": "execute_result"
    }
   ],
   "source": [
    "res"
   ]
  },
  {
   "cell_type": "code",
   "execution_count": null,
   "id": "8e99a86d",
   "metadata": {},
   "outputs": [],
   "source": []
  },
  {
   "cell_type": "code",
   "execution_count": 14,
   "id": "0abbc70e",
   "metadata": {},
   "outputs": [],
   "source": [
    "# One-Vs-One with regularized logistic regression models\n",
    "from sklearn.multiclass import OneVsOneClassifier\n",
    "from sklearn import linear_model\n",
    "# edit by Keith: solver='liblinear'\n",
    "res = OneVsOneClassifier(linear_model.LogisticRegression(penalty='l1', solver='liblinear')).fit(train_data, Y).predict(test_data)"
   ]
  },
  {
   "cell_type": "code",
   "execution_count": 15,
   "id": "8421005e",
   "metadata": {},
   "outputs": [
    {
     "data": {
      "text/plain": [
       "array([2, 0, 8, ..., 3, 9, 2])"
      ]
     },
     "execution_count": 15,
     "metadata": {},
     "output_type": "execute_result"
    }
   ],
   "source": [
    "res"
   ]
  },
  {
   "cell_type": "code",
   "execution_count": null,
   "id": "fe72d8ac",
   "metadata": {},
   "outputs": [],
   "source": []
  },
  {
   "cell_type": "code",
   "execution_count": 16,
   "id": "4411a51f",
   "metadata": {},
   "outputs": [
    {
     "name": "stdout",
     "output_type": "stream",
     "text": [
      "    parameter     score\n",
      "4   [1.0, l1]  0.912000\n",
      "5   [1.0, l2]  0.910714\n",
      "3   [0.1, l2]  0.910262\n",
      "7    [10, l2]  0.904881\n",
      "6    [10, l1]  0.902667\n",
      "2   [0.1, l1]  0.902286\n",
      "1  [0.01, l2]  0.898929\n",
      "0  [0.01, l1]  0.852310\n"
     ]
    }
   ],
   "source": [
    "# edit by Keith: cross_val_score\n",
    "from sklearn.model_selection import cross_val_score\n",
    "alphas = [0.01, 0.1, 1.0, 10]\n",
    "regs = [\"l1\", \"l2\"]\n",
    "scores = []\n",
    "param = []\n",
    "for alpha in alphas:\n",
    "    for reg in regs:\n",
    "        lm = OneVsRestClassifier(linear_model.LogisticRegression(penalty=reg, C=alpha, solver='liblinear'))\n",
    "        scores.append(cross_val_score(lm, train_data, Y, scoring=\"accuracy\", cv=2).mean())\n",
    "        param.append([alpha, reg])\n",
    "scores = pd.DataFrame({'parameter': param, 'score': scores})\n",
    "print(scores.sort_values(by = 'score', ascending = False))"
   ]
  },
  {
   "cell_type": "code",
   "execution_count": null,
   "id": "5b1fd23a",
   "metadata": {},
   "outputs": [],
   "source": []
  },
  {
   "cell_type": "code",
   "execution_count": 18,
   "id": "d564655c",
   "metadata": {},
   "outputs": [
    {
     "name": "stdout",
     "output_type": "stream",
     "text": [
      "    parameter     score\n",
      "5   [1.0, l2]  0.934429\n",
      "3   [0.1, l2]  0.933190\n",
      "4   [1.0, l1]  0.932262\n",
      "7    [10, l2]  0.927167\n",
      "6    [10, l1]  0.923167\n",
      "1  [0.01, l2]  0.918524\n",
      "2   [0.1, l1]  0.914429\n",
      "0  [0.01, l1]  0.837143\n"
     ]
    }
   ],
   "source": [
    "from sklearn.model_selection import cross_val_score\n",
    "alphas = [0.01, 0.1, 1.0, 10]\n",
    "regs = [\"l1\", \"l2\"]\n",
    "scores = []\n",
    "param = []\n",
    "for alpha in alphas:\n",
    "    for reg in regs:\n",
    "        lm = OneVsOneClassifier(linear_model.LogisticRegression(penalty=reg, C=alpha, solver='liblinear'))\n",
    "        scores.append(cross_val_score(lm, train_data, Y, scoring=\"accuracy\", cv = 2).mean())\n",
    "        param.append([alpha, reg])\n",
    "scores = pd.DataFrame({'parameter': param, 'score': scores})\n",
    "print(scores.sort_values(by = 'score', ascending = False))"
   ]
  },
  {
   "cell_type": "code",
   "execution_count": null,
   "id": "68f25523",
   "metadata": {},
   "outputs": [],
   "source": []
  },
  {
   "cell_type": "markdown",
   "id": "cc86a103",
   "metadata": {},
   "source": [
    "\n",
    "\n",
    "\n"
   ]
  },
  {
   "cell_type": "code",
   "execution_count": 19,
   "id": "375dd6ee",
   "metadata": {},
   "outputs": [
    {
     "name": "stdout",
     "output_type": "stream",
     "text": [
      "      parameter     score\n",
      "6     [1.0, l1]  0.912119\n",
      "7     [1.0, l2]  0.910714\n",
      "5     [0.1, l2]  0.910262\n",
      "9      [10, l2]  0.904881\n",
      "8      [10, l1]  0.902762\n",
      "4     [0.1, l1]  0.902190\n",
      "3    [0.01, l2]  0.898929\n",
      "11    [100, l2]  0.898714\n",
      "10    [100, l1]  0.893310\n",
      "1   [0.001, l2]  0.869548\n",
      "2    [0.01, l1]  0.852619\n",
      "0   [0.001, l1]  0.446976\n"
     ]
    }
   ],
   "source": [
    "from sklearn.model_selection import cross_val_score\n",
    "\n",
    "# Expanded range of parameters.\n",
    "alphas = [0.001, 0.01, 0.1, 1.0, 10, 100]\n",
    "#\n",
    "\n",
    "regs = [\"l1\", \"l2\"]\n",
    "scores = []\n",
    "param = []\n",
    "for alpha in alphas:\n",
    "    for reg in regs:\n",
    "        lm = OneVsRestClassifier(linear_model.LogisticRegression(penalty=reg, C=alpha, solver='liblinear'))\n",
    "        scores.append(cross_val_score(lm, train_data, Y, scoring=\"accuracy\", cv=2).mean())\n",
    "        param.append([alpha, reg])\n",
    "scores = pd.DataFrame({'parameter': param, 'score': scores})\n",
    "print(scores.sort_values(by = 'score', ascending = False))"
   ]
  },
  {
   "cell_type": "markdown",
   "id": "ef1facb8",
   "metadata": {},
   "source": [
    "From above we can say that the alpha = 1.0, l1 regulirization making the best classifications with accuracy of 0.912\n",
    "\n",
    "\n",
    "-"
   ]
  },
  {
   "cell_type": "code",
   "execution_count": 20,
   "id": "98b10903",
   "metadata": {},
   "outputs": [
    {
     "name": "stdout",
     "output_type": "stream",
     "text": [
      "      parameter     score\n",
      "7     [1.0, l2]  0.934429\n",
      "5     [0.1, l2]  0.933190\n",
      "6     [1.0, l1]  0.932095\n",
      "9      [10, l2]  0.927167\n",
      "8      [10, l1]  0.922548\n",
      "10    [100, l1]  0.920310\n",
      "11    [100, l2]  0.920214\n",
      "3    [0.01, l2]  0.918524\n",
      "4     [0.1, l1]  0.914310\n",
      "1   [0.001, l2]  0.886119\n",
      "2    [0.01, l1]  0.837071\n",
      "0   [0.001, l1]  0.205810\n"
     ]
    }
   ],
   "source": [
    "from sklearn.model_selection import cross_val_score\n",
    "\n",
    "# Expanded range of parameters.\n",
    "alphas = [0.001, 0.01, 0.1, 1.0, 10, 100]\n",
    "#\n",
    "regs = [\"l1\", \"l2\"]\n",
    "scores = []\n",
    "param = []\n",
    "for alpha in alphas:\n",
    "    for reg in regs:\n",
    "        lm = OneVsOneClassifier(linear_model.LogisticRegression(penalty=reg, C=alpha, solver='liblinear'))\n",
    "        scores.append(cross_val_score(lm, train_data, Y, scoring=\"accuracy\", cv = 2).mean())\n",
    "        param.append([alpha, reg])\n",
    "scores = pd.DataFrame({'parameter': param, 'score': scores})\n",
    "print(scores.sort_values(by = 'score', ascending = False))"
   ]
  },
  {
   "cell_type": "markdown",
   "id": "9e336c4d",
   "metadata": {},
   "source": [
    "From above we can say that the alpha = 1.0, l2 regulirization making the best classifications with accuracy of 0.934"
   ]
  },
  {
   "cell_type": "markdown",
   "id": "29680dc8",
   "metadata": {},
   "source": [
    "\n"
   ]
  },
  {
   "cell_type": "code",
   "execution_count": 21,
   "id": "7984372a",
   "metadata": {},
   "outputs": [
    {
     "name": "stdout",
     "output_type": "stream",
     "text": [
      "One vs Rest :\n",
      "      parameter     score\n",
      "6     [1.0, l1]  0.911976\n",
      "7     [1.0, l2]  0.910714\n",
      "5     [0.1, l2]  0.910262\n",
      "9      [10, l2]  0.904881\n",
      "8      [10, l1]  0.902786\n",
      "4     [0.1, l1]  0.902262\n",
      "3    [0.01, l2]  0.898929\n",
      "11    [100, l2]  0.898714\n",
      "10    [100, l1]  0.893238\n",
      "1   [0.001, l2]  0.869548\n",
      "2    [0.01, l1]  0.852357\n",
      "0   [0.001, l1]  0.446881\n",
      "One vs One :\n",
      "      parameter     score\n",
      "7     [1.0, l2]  0.934429\n",
      "5     [0.1, l2]  0.933190\n",
      "6     [1.0, l1]  0.932571\n",
      "9      [10, l2]  0.927167\n",
      "8      [10, l1]  0.922571\n",
      "11    [100, l2]  0.920214\n",
      "10    [100, l1]  0.919595\n",
      "3    [0.01, l2]  0.918524\n",
      "4     [0.1, l1]  0.914429\n",
      "1   [0.001, l2]  0.886119\n",
      "2    [0.01, l1]  0.836905\n",
      "0   [0.001, l1]  0.205810\n"
     ]
    }
   ],
   "source": [
    "\n",
    "# Expanded range of alpha values and regularization types\n",
    "alphas = [0.001, 0.01, 0.1, 1.0, 10, 100]\n",
    "regs = [\"l1\", \"l2\"]\n",
    "scores1 = []\n",
    "param1 = []\n",
    "scores2 = []\n",
    "param2 = []\n",
    "\n",
    "for alpha in alphas:\n",
    "    for reg in regs:\n",
    "        lm1 = OneVsRestClassifier(linear_model.LogisticRegression(penalty=reg, C=alpha, solver='liblinear'))\n",
    "        scores1.append(cross_val_score(lm1, train_data, Y, scoring=\"accuracy\", cv = 2).mean())\n",
    "        param1.append([alpha, reg])\n",
    "        \n",
    "        \n",
    "    for reg in regs:\n",
    "        lm2 = OneVsOneClassifier(linear_model.LogisticRegression(penalty=reg, C=alpha, solver='liblinear'))\n",
    "        scores2.append(cross_val_score(lm2, train_data, Y, scoring=\"accuracy\", cv = 2).mean())\n",
    "        param2.append([alpha, reg])\n",
    "        \n",
    "        \n",
    "    \n",
    "##\n",
    "scores1 = pd.DataFrame({'parameter': param1, 'score': scores1})\n",
    "print('One vs Rest :')\n",
    "print(scores1.sort_values(by = 'score', ascending = False))\n",
    "##\n",
    "scores2 = pd.DataFrame({'parameter': param2, 'score': scores2})\n",
    "print('One vs One :')\n",
    "print(scores2.sort_values(by = 'score', ascending = False))\n",
    "##"
   ]
  },
  {
   "cell_type": "code",
   "execution_count": null,
   "id": "4c179c64",
   "metadata": {},
   "outputs": [],
   "source": []
  },
  {
   "cell_type": "markdown",
   "id": "3b5d3a2a",
   "metadata": {},
   "source": [
    "### In Module 11, we only learned softmax regression models in RBF and PCA. Please adopt One-Vs-One or One-Vs-The-Rest instead in RBF and PCA. Post Python codes in your solution and report the best performance you’ve got on testing set for your codes of One-Vs-One and One-Vs-The-Rest separately. (4 points)"
   ]
  },
  {
   "cell_type": "code",
   "execution_count": null,
   "id": "03b47747",
   "metadata": {},
   "outputs": [],
   "source": []
  },
  {
   "cell_type": "code",
   "execution_count": 28,
   "id": "020cbab3",
   "metadata": {},
   "outputs": [
    {
     "name": "stdout",
     "output_type": "stream",
     "text": [
      "      parameter     score\n",
      "6     [1.0, l1]  0.911952\n",
      "7     [1.0, l2]  0.910714\n",
      "5     [0.1, l2]  0.910262\n",
      "9      [10, l2]  0.904881\n",
      "8      [10, l1]  0.902619\n",
      "4     [0.1, l1]  0.902286\n",
      "3    [0.01, l2]  0.898929\n",
      "11    [100, l2]  0.898714\n",
      "10    [100, l1]  0.893310\n",
      "1   [0.001, l2]  0.869548\n",
      "2    [0.01, l1]  0.852238\n",
      "0   [0.001, l1]  0.446429\n"
     ]
    }
   ],
   "source": [
    "from sklearn.model_selection import cross_val_score\n",
    "\n",
    "# Expanded range of parameters.\n",
    "alphas = [0.001, 0.01, 0.1, 1.0, 10, 100]\n",
    "#\n",
    "\n",
    "regs = [\"l1\", \"l2\"]\n",
    "scores = []\n",
    "param = []\n",
    "for alpha in alphas:\n",
    "    for reg in regs:\n",
    "        lm = OneVsRestClassifier(linear_model.LogisticRegression(penalty=reg, C=alpha, solver='liblinear'))\n",
    "        scores.append(cross_val_score(lm, train_data, Y, scoring=\"accuracy\", cv=2).mean())\n",
    "        param.append([alpha, reg])\n",
    "scores = pd.DataFrame({'parameter': param, 'score': scores})\n",
    "print(scores.sort_values(by = 'score', ascending = False))"
   ]
  },
  {
   "cell_type": "code",
   "execution_count": 29,
   "id": "592148ac",
   "metadata": {},
   "outputs": [
    {
     "name": "stdout",
     "output_type": "stream",
     "text": [
      "[2 0 9 ... 3 9 2]\n"
     ]
    }
   ],
   "source": [
    "res = OneVsRestClassifier(linear_model.LogisticRegression(penalty='l1', solver='liblinear', C=1.0)).fit(train_data, Y).predict(test_data)\n",
    "print(res)"
   ]
  },
  {
   "cell_type": "code",
   "execution_count": null,
   "id": "a05ebb8d",
   "metadata": {},
   "outputs": [],
   "source": []
  },
  {
   "cell_type": "code",
   "execution_count": 30,
   "id": "ed154686",
   "metadata": {},
   "outputs": [
    {
     "name": "stdout",
     "output_type": "stream",
     "text": [
      "      parameter     score\n",
      "7     [1.0, l2]  0.934429\n",
      "5     [0.1, l2]  0.933190\n",
      "6     [1.0, l1]  0.932476\n",
      "9      [10, l2]  0.927167\n",
      "8      [10, l1]  0.923024\n",
      "10    [100, l1]  0.920262\n",
      "11    [100, l2]  0.920214\n",
      "3    [0.01, l2]  0.918524\n",
      "4     [0.1, l1]  0.914476\n",
      "1   [0.001, l2]  0.886119\n",
      "2    [0.01, l1]  0.837071\n",
      "0   [0.001, l1]  0.205810\n"
     ]
    }
   ],
   "source": [
    "from sklearn.model_selection import cross_val_score\n",
    "\n",
    "# Expanded range of parameters.\n",
    "alphas = [0.001, 0.01, 0.1, 1.0, 10, 100]\n",
    "#\n",
    "regs = [\"l1\", \"l2\"]\n",
    "scores = []\n",
    "param = []\n",
    "for alpha in alphas:\n",
    "    for reg in regs:\n",
    "        lm = OneVsOneClassifier(linear_model.LogisticRegression(penalty=reg, C=alpha, solver='liblinear'))\n",
    "        scores.append(cross_val_score(lm, train_data, Y, scoring=\"accuracy\", cv = 2).mean())\n",
    "        param.append([alpha, reg])\n",
    "scores = pd.DataFrame({'parameter': param, 'score': scores})\n",
    "print(scores.sort_values(by = 'score', ascending = False))"
   ]
  },
  {
   "cell_type": "code",
   "execution_count": 31,
   "id": "dba20568",
   "metadata": {},
   "outputs": [
    {
     "name": "stdout",
     "output_type": "stream",
     "text": [
      "[2 0 8 ... 3 9 2]\n"
     ]
    }
   ],
   "source": [
    "res = OneVsRestClassifier(linear_model.LogisticRegression(penalty='l2', solver='liblinear', C=1.0)).fit(train_data, Y).predict(test_data)\n",
    "print(res)"
   ]
  },
  {
   "cell_type": "markdown",
   "id": "8811816f",
   "metadata": {},
   "source": []
  },
  {
   "cell_type": "markdown",
   "id": "68eaef57",
   "metadata": {},
   "source": [
    "#### KNN with PCA"
   ]
  },
  {
   "cell_type": "code",
   "execution_count": null,
   "id": "451d1932",
   "metadata": {},
   "outputs": [],
   "source": [
    "from sklearn.decomposition import PCA\n",
    "# edit by Keith: cross_val_score\n",
    "from sklearn.model_selection import cross_val_score\n",
    "alphas = [0.001, 0.003, 0.01, 0.03, 0.1, 0.3, 1.0, 3.0, 10, 30, 100, 300, 1000, 3000]\n",
    "Ks = [10, 100, 500]\n",
    "scores = []\n",
    "param = []\n",
    "for K in Ks: \n",
    "    pca = PCA(n_components = K, svd_solver='arpack')\n",
    "    pca.fit(train_data)\n",
    "    pca_train = pca.transform(train_data)\n",
    "    for alpha in alphas:\n",
    "        lm = linear_model.LogisticRegression(C = alpha, multi_class = 'multinomial', solver = 'lbfgs')\n",
    "        scores.append(cross_val_score(lm, pca_train, Y, scoring=\"accuracy\", cv = 10).mean())\n",
    "        param.append([K, alpha])\n",
    "scores = pd.DataFrame({'parameter': param, 'score': scores})\n",
    "print(scores.sort_values(by = 'score', ascending = False))"
   ]
  },
  {
   "cell_type": "code",
   "execution_count": 33,
   "id": "e839d29b",
   "metadata": {},
   "outputs": [],
   "source": [
    "from sklearn.decomposition import PCA\n",
    "pca = PCA(n_components = 500, svd_solver='arpack')\n",
    "pca.fit(train_data)\n",
    "pca_train = pca.transform(train_data)\n",
    "pca_test = pca.transform(test_data)"
   ]
  },
  {
   "cell_type": "code",
   "execution_count": 34,
   "id": "173faae5",
   "metadata": {},
   "outputs": [
    {
     "name": "stdout",
     "output_type": "stream",
     "text": [
      "  parameter     score\n",
      "0       [1]  0.967429\n",
      "1      [10]  0.964548\n",
      "2      [20]  0.958357\n"
     ]
    }
   ],
   "source": [
    "from sklearn.neighbors import KNeighborsClassifier\n",
    "# edit by Keith: cross_val_score\n",
    "from sklearn.model_selection import cross_val_score\n",
    "nigs = [1, 10, 20]\n",
    "scores = []\n",
    "param = []\n",
    "for n in nigs:\n",
    "    neigh = KNeighborsClassifier(n_neighbors = n)\n",
    "    scores.append(cross_val_score(neigh, pca_train, Y, scoring=\"accuracy\", cv = 10).mean())\n",
    "    param.append([n])\n",
    "scores = pd.DataFrame({'parameter': param, 'score': scores})\n",
    "print(scores.sort_values(by = 'score', ascending = False))"
   ]
  },
  {
   "cell_type": "markdown",
   "id": "1deebdbb",
   "metadata": {},
   "source": [
    "Best performance can be observed can be '1', But its overfitted, so we can consider 10 as the best choice of neighbours. This lands accuracy near 0.964"
   ]
  },
  {
   "cell_type": "markdown",
   "id": "10c44e2d",
   "metadata": {},
   "source": [
    "#### KNN with RBF"
   ]
  },
  {
   "cell_type": "code",
   "execution_count": 35,
   "id": "25a19999",
   "metadata": {},
   "outputs": [],
   "source": [
    "import numpy as np\n",
    "import math\n",
    "# RBF function\n",
    "def rbf(data, centers, sigma):\n",
    "    res = np.ndarray(shape = (len(data), len(centers)))\n",
    "    i = 0\n",
    "    for row in data:\n",
    "        tmp = []\n",
    "        for center in centers:\n",
    "            tmp.append(math.exp(-1.0 * sum(np.square(row - center)) / (2 * sigma * sigma)))\n",
    "        res[i, :] = tmp\n",
    "        i = i + 1\n",
    "    return res\n",
    "# select k centers from data\n",
    "def selectCenters(data, k):\n",
    "    tmp = np.random.choice(len(data), k)\n",
    "    return data[tmp,:]"
   ]
  },
  {
   "cell_type": "code",
   "execution_count": 37,
   "id": "1bc94f45",
   "metadata": {},
   "outputs": [],
   "source": [
    "alphas = [0.1, 0.5, 1.0, 10]\n",
    "sigmas = [1.0, 2.0, 3.0, 4.0]\n",
    "Ks = [10, 100, 500]\n",
    "scores = []\n",
    "param = []\n",
    "\n",
    "for K in Ks:\n",
    "    centers = selectCenters(train_data.to_numpy(), K)\n",
    "    for sigma in sigmas:\n",
    "        rbfX = rbf(train_data.to_numpy(), centers, sigma)\n",
    "        \n",
    "        for a in alphas:\n",
    "            knn = KNeighborsClassifier(n_neighbors=5) \n",
    "            scores.append(cross_val_score(knn, rbfX, Y, scoring=\"accuracy\", cv=10).mean())\n",
    "            param.append([K, sigma, a])\n",
    "            \n",
    "scores_df = pd.DataFrame({'parameter': param, 'score': scores})"
   ]
  },
  {
   "cell_type": "code",
   "execution_count": null,
   "id": "31d44f14",
   "metadata": {},
   "outputs": [],
   "source": []
  },
  {
   "cell_type": "code",
   "execution_count": null,
   "id": "9bccfb9d",
   "metadata": {},
   "outputs": [],
   "source": []
  }
 ],
 "metadata": {
  "kernelspec": {
   "display_name": "Python 3 (ipykernel)",
   "language": "python",
   "name": "python3"
  },
  "language_info": {
   "codemirror_mode": {
    "name": "ipython",
    "version": 3
   },
   "file_extension": ".py",
   "mimetype": "text/x-python",
   "name": "python",
   "nbconvert_exporter": "python",
   "pygments_lexer": "ipython3",
   "version": "3.9.12"
  }
 },
 "nbformat": 4,
 "nbformat_minor": 5
}
